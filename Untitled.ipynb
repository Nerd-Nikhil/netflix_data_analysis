import pandas as pd

# Load data
df = pd.read_csv("netflix_titles.csv")
df.head()
# Check for null values
df.isnull().sum()

# Drop rows with missing titles or type
df = df.dropna(subset=['title', 'type'])

# Fill other nulls (optional)
df.fillna({'country': 'Unknown', 'rating': 'Unknown'}, inplace=True)

import matplotlib.pyplot as plt
import seaborn as sns

# Movie vs TV Show count
sns.countplot(data=df, x='type')
plt.title("Content Type Distribution (Movies vs TV Shows)")
plt.show()

# Top 10 countries with most content
top_countries = df['country'].value_counts().head(10)
top_countries.plot(kind='barh', color='orange')
plt.title("Top 10 Countries by Number of Shows")
plt.xlabel("Number of Titles")
plt.show()

# Content added by year
# Remove leading/trailing spaces
df['date_added'] = df['date_added'].str.strip()

# Convert to datetime, skip invalid ones
df['date_added'] = pd.to_datetime(df['date_added'], errors='coerce')

# Extract year
df['year_added'] = df['date_added'].dt.year

# Plot content added per year
df['year_added'].value_counts().sort_index().plot(kind='bar', figsize=(12,5), color='purple')
plt.title("Content Added Per Year")
plt.xlabel("Year")
plt.ylabel("Number of Titles")
plt.show()
# Check for null values
df.isnull().sum()

# Drop rows with missing titles or type
df = df.dropna(subset=['title', 'type'])

# Fill other nulls (optional)
df.fillna({'country': 'Unknown', 'rating': 'Unknown'}, inplace=True)

